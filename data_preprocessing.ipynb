{
 "cells": [
  {
   "cell_type": "code",
   "execution_count": 82,
   "id": "efd27f6b",
   "metadata": {},
   "outputs": [],
   "source": [
    "import torch\n",
    "import numpy as np\n",
    "import pandas as pd\n",
    "import re\n",
    "import os\n",
    "from nltk.tokenize import WordPunctTokenizer\n",
    "import itertools\n"
   ]
  },
  {
   "cell_type": "code",
   "execution_count": 83,
   "id": "202e652d",
   "metadata": {},
   "outputs": [
    {
     "name": "stdout",
     "output_type": "stream",
     "text": [
      "PyTorch version: 2.5.1\n",
      "CUDA version: 12.4\n",
      "CUDA is available: True\n",
      "Number of CUDA devices: 1\n",
      "Device 0: NVIDIA GeForce GTX 1650\n",
      "Compute capability: (7, 5)\n"
     ]
    }
   ],
   "source": [
    "print(f\"PyTorch version: {torch.__version__}\")\n",
    "print(f\"CUDA version: {torch.version.cuda}\")\n",
    "print(\"CUDA is available:\", torch.cuda.is_available())\n",
    "\n",
    "if torch.cuda.is_available():\n",
    "    print(f\"Number of CUDA devices: {torch.cuda.device_count()}\")\n",
    "    for i in range(torch.cuda.device_count()):\n",
    "        print(f\"Device {i}: {torch.cuda.get_device_name(i)}\")\n",
    "        print(f\"Compute capability: {torch.cuda.get_device_capability(i)}\")"
   ]
  },
  {
   "cell_type": "markdown",
   "id": "7cab94ec",
   "metadata": {},
   "source": [
    "## Load Data"
   ]
  },
  {
   "cell_type": "code",
   "execution_count": 84,
   "id": "72492537",
   "metadata": {},
   "outputs": [],
   "source": [
    "EXTERNAL_DATA_PATH = './data/external'\n",
    "RAW_DATA_PATH = './data/raw'\n",
    "PROCESSED_DATA_PATH = './data/processed'"
   ]
  },
  {
   "cell_type": "code",
   "execution_count": 85,
   "id": "d7b993c8",
   "metadata": {},
   "outputs": [],
   "source": [
    "train_data = pd.read_csv(f'{RAW_DATA_PATH}/train.csv')\n",
    "test_data = pd.read_csv(f'{RAW_DATA_PATH}/test.csv')"
   ]
  },
  {
   "cell_type": "code",
   "execution_count": 86,
   "id": "6e2d19aa",
   "metadata": {},
   "outputs": [
    {
     "data": {
      "text/html": [
       "<div>\n",
       "<style scoped>\n",
       "    .dataframe tbody tr th:only-of-type {\n",
       "        vertical-align: middle;\n",
       "    }\n",
       "\n",
       "    .dataframe tbody tr th {\n",
       "        vertical-align: top;\n",
       "    }\n",
       "\n",
       "    .dataframe thead th {\n",
       "        text-align: right;\n",
       "    }\n",
       "</style>\n",
       "<table border=\"1\" class=\"dataframe\">\n",
       "  <thead>\n",
       "    <tr style=\"text-align: right;\">\n",
       "      <th></th>\n",
       "      <th>original_text</th>\n",
       "      <th>source</th>\n",
       "      <th>pornografi</th>\n",
       "      <th>sara</th>\n",
       "      <th>radikalisme</th>\n",
       "      <th>pencemaran_nama_baik</th>\n",
       "    </tr>\n",
       "  </thead>\n",
       "  <tbody>\n",
       "    <tr>\n",
       "      <th>0</th>\n",
       "      <td>[QUOTE=jessepinkman16;5a50ac34d89b093f368b456e...</td>\n",
       "      <td>kaskus</td>\n",
       "      <td>0</td>\n",
       "      <td>0</td>\n",
       "      <td>0</td>\n",
       "      <td>1</td>\n",
       "    </tr>\n",
       "    <tr>\n",
       "      <th>1</th>\n",
       "      <td>@verosvante kita2 aja nitizen yang pada kepo,t...</td>\n",
       "      <td>instagram</td>\n",
       "      <td>0</td>\n",
       "      <td>0</td>\n",
       "      <td>0</td>\n",
       "      <td>0</td>\n",
       "    </tr>\n",
       "    <tr>\n",
       "      <th>2</th>\n",
       "      <td>\"#SidangAhok smg sipenista agama n ateknya mat...</td>\n",
       "      <td>twitter</td>\n",
       "      <td>0</td>\n",
       "      <td>1</td>\n",
       "      <td>1</td>\n",
       "      <td>1</td>\n",
       "    </tr>\n",
       "    <tr>\n",
       "      <th>3</th>\n",
       "      <td>@bolususulembang.jkt barusan baca undang2 ini....</td>\n",
       "      <td>instagram</td>\n",
       "      <td>0</td>\n",
       "      <td>0</td>\n",
       "      <td>0</td>\n",
       "      <td>0</td>\n",
       "    </tr>\n",
       "    <tr>\n",
       "      <th>4</th>\n",
       "      <td>bikin anak mulu lu nof \\nkaga mikir apa kasian...</td>\n",
       "      <td>kaskus</td>\n",
       "      <td>0</td>\n",
       "      <td>0</td>\n",
       "      <td>0</td>\n",
       "      <td>0</td>\n",
       "    </tr>\n",
       "  </tbody>\n",
       "</table>\n",
       "</div>"
      ],
      "text/plain": [
       "                                       original_text     source  pornografi  \\\n",
       "0  [QUOTE=jessepinkman16;5a50ac34d89b093f368b456e...     kaskus           0   \n",
       "1  @verosvante kita2 aja nitizen yang pada kepo,t...  instagram           0   \n",
       "2  \"#SidangAhok smg sipenista agama n ateknya mat...    twitter           0   \n",
       "3  @bolususulembang.jkt barusan baca undang2 ini....  instagram           0   \n",
       "4  bikin anak mulu lu nof \\nkaga mikir apa kasian...     kaskus           0   \n",
       "\n",
       "   sara  radikalisme  pencemaran_nama_baik  \n",
       "0     0            0                     1  \n",
       "1     0            0                     0  \n",
       "2     1            1                     1  \n",
       "3     0            0                     0  \n",
       "4     0            0                     0  "
      ]
     },
     "execution_count": 86,
     "metadata": {},
     "output_type": "execute_result"
    }
   ],
   "source": [
    "train_data.head()"
   ]
  },
  {
   "cell_type": "code",
   "execution_count": 87,
   "id": "dd744891",
   "metadata": {},
   "outputs": [
    {
     "data": {
      "text/html": [
       "<div>\n",
       "<style scoped>\n",
       "    .dataframe tbody tr th:only-of-type {\n",
       "        vertical-align: middle;\n",
       "    }\n",
       "\n",
       "    .dataframe tbody tr th {\n",
       "        vertical-align: top;\n",
       "    }\n",
       "\n",
       "    .dataframe thead th {\n",
       "        text-align: right;\n",
       "    }\n",
       "</style>\n",
       "<table border=\"1\" class=\"dataframe\">\n",
       "  <thead>\n",
       "    <tr style=\"text-align: right;\">\n",
       "      <th></th>\n",
       "      <th>original_text</th>\n",
       "      <th>source</th>\n",
       "      <th>pornografi</th>\n",
       "      <th>sara</th>\n",
       "      <th>radikalisme</th>\n",
       "      <th>pencemaran_nama_baik</th>\n",
       "    </tr>\n",
       "  </thead>\n",
       "  <tbody>\n",
       "    <tr>\n",
       "      <th>0</th>\n",
       "      <td>1.BUKAN CM SPANDUK PROF,VIDEO2 ORASI MEREKA, B...</td>\n",
       "      <td>twitter</td>\n",
       "      <td>0</td>\n",
       "      <td>0</td>\n",
       "      <td>1</td>\n",
       "      <td>0</td>\n",
       "    </tr>\n",
       "    <tr>\n",
       "      <th>1</th>\n",
       "      <td>@memeqbeceq gy sange'gatel yh tetek'memekY drn...</td>\n",
       "      <td>twitter</td>\n",
       "      <td>1</td>\n",
       "      <td>0</td>\n",
       "      <td>0</td>\n",
       "      <td>0</td>\n",
       "    </tr>\n",
       "    <tr>\n",
       "      <th>2</th>\n",
       "      <td>Pertama kali denger lagunya enk bgt in dan png...</td>\n",
       "      <td>instagram</td>\n",
       "      <td>0</td>\n",
       "      <td>0</td>\n",
       "      <td>0</td>\n",
       "      <td>0</td>\n",
       "    </tr>\n",
       "    <tr>\n",
       "      <th>3</th>\n",
       "      <td>astajim, ini pasti yg kasih penghargaan ke ibu...</td>\n",
       "      <td>kaskus</td>\n",
       "      <td>0</td>\n",
       "      <td>0</td>\n",
       "      <td>0</td>\n",
       "      <td>0</td>\n",
       "    </tr>\n",
       "    <tr>\n",
       "      <th>4</th>\n",
       "      <td>beda kalo disini kalo komplain lgs di bully am...</td>\n",
       "      <td>kaskus</td>\n",
       "      <td>0</td>\n",
       "      <td>0</td>\n",
       "      <td>0</td>\n",
       "      <td>0</td>\n",
       "    </tr>\n",
       "  </tbody>\n",
       "</table>\n",
       "</div>"
      ],
      "text/plain": [
       "                                       original_text     source  pornografi  \\\n",
       "0  1.BUKAN CM SPANDUK PROF,VIDEO2 ORASI MEREKA, B...    twitter           0   \n",
       "1  @memeqbeceq gy sange'gatel yh tetek'memekY drn...    twitter           1   \n",
       "2  Pertama kali denger lagunya enk bgt in dan png...  instagram           0   \n",
       "3  astajim, ini pasti yg kasih penghargaan ke ibu...     kaskus           0   \n",
       "4  beda kalo disini kalo komplain lgs di bully am...     kaskus           0   \n",
       "\n",
       "   sara  radikalisme  pencemaran_nama_baik  \n",
       "0     0            1                     0  \n",
       "1     0            0                     0  \n",
       "2     0            0                     0  \n",
       "3     0            0                     0  \n",
       "4     0            0                     0  "
      ]
     },
     "execution_count": 87,
     "metadata": {},
     "output_type": "execute_result"
    }
   ],
   "source": [
    "test_data.head()"
   ]
  },
  {
   "cell_type": "markdown",
   "id": "130a3895",
   "metadata": {},
   "source": [
    "## Preprocess data"
   ]
  },
  {
   "cell_type": "markdown",
   "id": "327cb33d",
   "metadata": {},
   "source": [
    "### mengartikan emot ke bahasa manusia yang mudah dipahami"
   ]
  },
  {
   "cell_type": "code",
   "execution_count": 88,
   "id": "2428dac2",
   "metadata": {},
   "outputs": [],
   "source": [
    "EMOTICON_DATA_PATH = f'{EXTERNAL_DATA_PATH}/emoticon.txt'\n",
    "emoticon_df = pd.read_csv(EMOTICON_DATA_PATH, sep='\\t', header=None)\n",
    "emoticon_dict = dict(zip(emoticon_df[0], emoticon_df[1]))\n",
    "\n",
    "def translate_emoticon(t):\n",
    "    for w, v in emoticon_dict.items():\n",
    "        pattern = re.compile(re.escape(w))\n",
    "        match = re.search(pattern, t)\n",
    "        if match:\n",
    "            t = re.sub(pattern, v, t)\n",
    "    return t"
   ]
  },
  {
   "cell_type": "code",
   "execution_count": 89,
   "id": "861de207",
   "metadata": {},
   "outputs": [
    {
     "name": "stdout",
     "output_type": "stream",
     "text": [
      "Before : senang sekali berada disini :)\n",
      "After : senang sekali berada disini Senyum\n",
      "Before : saya sangat senang :@\n",
      "After : saya sangat senang Berteriak\n"
     ]
    }
   ],
   "source": [
    "example_text = 'senang sekali berada disini :)'\n",
    "example_text1 = 'saya sangat senang :@'\n",
    "\n",
    "print(f'Before : {example_text}')\n",
    "print(f'After : {translate_emoticon(example_text)}')\n",
    "\n",
    "print(f'Before : {example_text1}')\n",
    "print(f'After : {translate_emoticon(example_text1)}')"
   ]
  },
  {
   "cell_type": "markdown",
   "id": "12870ae8",
   "metadata": {},
   "source": [
    "### Remove excessive newline"
   ]
  },
  {
   "cell_type": "code",
   "execution_count": 90,
   "id": "585d71b8",
   "metadata": {},
   "outputs": [
    {
     "name": "stdout",
     "output_type": "stream",
     "text": [
      "Before : halo saya\n",
      "adalah\n",
      "mahasiswa\n",
      "di\n",
      "telkom university\n",
      "\n",
      "After : halo saya adalah mahasiswa di telkom university \n"
     ]
    }
   ],
   "source": [
    "def remove_newline(text):\n",
    "    return re.sub('\\n', ' ', text)\n",
    "\n",
    "\n",
    "sample_text = 'halo saya\\nadalah\\nmahasiswa\\ndi\\ntelkom university\\n'\n",
    "\n",
    "print(f'Before : {sample_text}')\n",
    "print(f'After : {remove_newline(sample_text)}')"
   ]
  },
  {
   "cell_type": "markdown",
   "id": "b9212017",
   "metadata": {},
   "source": [
    "### Remove kaskus formatting"
   ]
  },
  {
   "cell_type": "code",
   "execution_count": 91,
   "id": "3ad7d9ea",
   "metadata": {},
   "outputs": [],
   "source": [
    "def remove_kaskus_formatting(text):\n",
    "    text = re.sub('\\[', ' [', text)\n",
    "    text = re.sub('\\]', '] ', text)\n",
    "    text = re.sub('\\[quote[^ ]*\\].*?\\[\\/quote\\]', ' ', text)\n",
    "    text = re.sub('\\[[^ ]*\\]', ' ', text)\n",
    "    text = re.sub('\"', ' ', text)\n",
    "    return text"
   ]
  },
  {
   "cell_type": "code",
   "execution_count": 92,
   "id": "48ac1947",
   "metadata": {},
   "outputs": [
    {
     "name": "stdout",
     "output_type": "stream",
     "text": [
      "Before : [quote]saya sangat senang[/quote] halo saya adalah mahasiswa di telkom university [quote]saya sangat senang[/quote]\n",
      "After :     halo saya adalah mahasiswa di telkom university    \n"
     ]
    }
   ],
   "source": [
    "sample_text = '[quote]saya sangat senang[/quote] halo saya adalah mahasiswa di telkom university [quote]saya sangat senang[/quote]'\n",
    "print(f'Before : {sample_text}')\n",
    "print(f'After : {remove_kaskus_formatting(sample_text)}')"
   ]
  },
  {
   "cell_type": "markdown",
   "id": "09ed6b22",
   "metadata": {},
   "source": [
    "### Remove url"
   ]
  },
  {
   "cell_type": "code",
   "execution_count": 93,
   "id": "baa7c8e9",
   "metadata": {},
   "outputs": [
    {
     "name": "stdout",
     "output_type": "stream",
     "text": [
      "Before : website telkom university ada di http://www.telkomuniversity.ac.id\n",
      "After : website telkom university ada di \n"
     ]
    }
   ],
   "source": [
    "def remove_url(text):\n",
    "    return re.sub('((www\\.[^\\s]+)|(https?://[^\\s]+)|(http?://[^\\s]+))', '', text)\n",
    "\n",
    "sample_text = 'website telkom university ada di http://www.telkomuniversity.ac.id'\n",
    "print(f'Before : {sample_text}')\n",
    "print(f'After : {remove_url(sample_text)}')"
   ]
  },
  {
   "cell_type": "markdown",
   "id": "43e02c23",
   "metadata": {},
   "source": [
    "### Remove excessive whitespace"
   ]
  },
  {
   "cell_type": "code",
   "execution_count": 94,
   "id": "ebc77ec9",
   "metadata": {},
   "outputs": [],
   "source": [
    "def remove_excessive_whitespace(text):\n",
    "    return re.sub('  +', ' ', text)"
   ]
  },
  {
   "cell_type": "code",
   "execution_count": 95,
   "id": "254d49e3",
   "metadata": {},
   "outputs": [
    {
     "name": "stdout",
     "output_type": "stream",
     "text": [
      "Before : saya    sangat    senang sekali\n",
      "After : saya sangat senang sekali\n"
     ]
    }
   ],
   "source": [
    "sample_text = 'saya    sangat    senang sekali'\n",
    "print(f'Before : {sample_text}')\n",
    "print(f'After : {remove_excessive_whitespace(sample_text)}')"
   ]
  },
  {
   "cell_type": "markdown",
   "id": "9da44ddb",
   "metadata": {},
   "source": [
    "### Tokenize text for word punctuation"
   ]
  },
  {
   "cell_type": "code",
   "execution_count": 96,
   "id": "4588af45",
   "metadata": {},
   "outputs": [],
   "source": [
    "def tokenize_text(text, punct=False):\n",
    "    text = WordPunctTokenizer().tokenize(text)\n",
    "    text = [word for word in text if punct or word.isalnum()]\n",
    "    text = ' '.join(text)\n",
    "    text = text.strip()\n",
    "    return text"
   ]
  },
  {
   "cell_type": "code",
   "execution_count": 97,
   "id": "2e309d1d",
   "metadata": {},
   "outputs": [
    {
     "name": "stdout",
     "output_type": "stream",
     "text": [
      "Before : kemarin, saya pergi ke mall, dan membeli baju baru!\n",
      "After  : kemarin saya pergi ke mall dan membeli baju baru\n"
     ]
    }
   ],
   "source": [
    "sample_text = 'kemarin, saya pergi ke mall, dan membeli baju baru!'\n",
    "\n",
    "print(f'Before : {sample_text}')\n",
    "print(f'After  : {tokenize_text(sample_text)}')"
   ]
  },
  {
   "cell_type": "markdown",
   "id": "824dba6d",
   "metadata": {},
   "source": [
    "### Transform kata slang"
   ]
  },
  {
   "cell_type": "code",
   "execution_count": 98,
   "id": "84f9256f",
   "metadata": {},
   "outputs": [],
   "source": [
    "slang_words = pd.read_csv(f'{EXTERNAL_DATA_PATH}/slangword.csv')\n",
    "slang_dict = dict(zip(slang_words['original'], slang_words['translated']))\n",
    "\n",
    "def transform_slang_words(text):\n",
    "    word_list = text.split()\n",
    "    word_list_len = len(word_list)\n",
    "    transformed_word_list = []\n",
    "    i = 0\n",
    "    while i < word_list_len:\n",
    "        if (i + 1) < word_list_len:\n",
    "            two_words = ' '.join(word_list[i:i+2])\n",
    "            if two_words in slang_dict:\n",
    "                transformed_word_list.append(slang_dict[two_words])\n",
    "                i += 2\n",
    "                continue\n",
    "        transformed_word_list.append(slang_dict.get(word_list[i], word_list[i]))\n",
    "        i += 1\n",
    "    return ' '.join(transformed_word_list)"
   ]
  },
  {
   "cell_type": "code",
   "execution_count": 99,
   "id": "ed697539",
   "metadata": {},
   "outputs": [
    {
     "name": "stdout",
     "output_type": "stream",
     "text": [
      "Before : siap mas sebentar lagi saya sampai 7an\n",
      "After  : siap mas sebentar lagi saya sampai tujuan\n"
     ]
    }
   ],
   "source": [
    "sample_text = 'siap mas sebentar lagi saya sampai 7an'\n",
    "\n",
    "print(f'Before : {sample_text}')\n",
    "print(f'After  : {transform_slang_words(sample_text)}')"
   ]
  },
  {
   "cell_type": "markdown",
   "id": "fa37ad54",
   "metadata": {},
   "source": [
    "### Remove non alphabet"
   ]
  },
  {
   "cell_type": "code",
   "execution_count": 100,
   "id": "a7cc666e",
   "metadata": {},
   "outputs": [
    {
     "name": "stdout",
     "output_type": "stream",
     "text": [
      "Before : kemaren tu123 ada kelinci di kebun\n",
      "After  : kemaren tu ada kelinci di kebun\n"
     ]
    }
   ],
   "source": [
    "def remove_non_alphabet(text):\n",
    "    output = re.sub('[^a-zA-Z ]+', '', text)\n",
    "    return output\n",
    "\n",
    "sample_text = 'kemaren tu123 ada kelinci di kebun'\n",
    "\n",
    "print(f'Before : {sample_text}')\n",
    "print(f'After  : {remove_non_alphabet(sample_text)}')"
   ]
  },
  {
   "cell_type": "markdown",
   "id": "5b794597",
   "metadata": {},
   "source": [
    "### Remove twitter & instagram formatting"
   ]
  },
  {
   "cell_type": "code",
   "execution_count": 101,
   "id": "f2215933",
   "metadata": {},
   "outputs": [
    {
     "name": "stdout",
     "output_type": "stream",
     "text": [
      "Before : @fakhri17: halo saya adalah mahasiswa di telkom university @fakhri17\n",
      "After  : : halo saya adalah mahasiswa di telkom university \n"
     ]
    }
   ],
   "source": [
    "def remove_twitter_ig_formatting(text):\n",
    "    text = re.sub(r'@[A-Za-z0-9]+', '', text)\n",
    "    text = re.sub(r'\\brt\\b', '', text)\n",
    "    return text\n",
    "\n",
    "sample_text = '@fakhri17: halo saya adalah mahasiswa di telkom university @fakhri17'\n",
    "print(f'Before : {sample_text}')\n",
    "print(f'After  : {remove_twitter_ig_formatting(sample_text)}')"
   ]
  },
  {
   "cell_type": "markdown",
   "id": "f54f5709",
   "metadata": {},
   "source": [
    "### Remove repeating characters"
   ]
  },
  {
   "cell_type": "code",
   "execution_count": 102,
   "id": "31f355c8",
   "metadata": {},
   "outputs": [
    {
     "name": "stdout",
     "output_type": "stream",
     "text": [
      "Before : haloooooooo saya adaaaaaaalahh mahasiswa di telkom university\n",
      "After  : halo saya adalah mahasiswa di telkom university\n"
     ]
    }
   ],
   "source": [
    "def remove_repeating_characters(text):\n",
    "    return ''.join(''.join(s)[:1] for _, s in itertools.groupby(text))\n",
    "\n",
    "sample_text = 'haloooooooo saya adaaaaaaalahh mahasiswa di telkom university'\n",
    "print(f'Before : {sample_text}')\n",
    "print(f'After  : {remove_repeating_characters(sample_text)}')"
   ]
  },
  {
   "cell_type": "markdown",
   "id": "458a0954",
   "metadata": {},
   "source": [
    "### Final preprocessing"
   ]
  },
  {
   "cell_type": "code",
   "execution_count": null,
   "id": "8db602ec",
   "metadata": {},
   "outputs": [
    {
     "name": "stdout",
     "output_type": "stream",
     "text": [
      "Before : kemarin tu123 ada kelinci di kebun @fakhri17: halo saya adalah mahasiswa di telkom university surabaya :)\n",
      "After  : kemarin tu ada kelinci di kebun halo saya adalah mahasiswa di telkom university surabaya senyum\n"
     ]
    }
   ],
   "source": [
    "def preprocess_text(text):\n",
    "  transformed_text = text.lower()\n",
    "  transformed_text = remove_newline(text)\n",
    "  transformed_text = remove_url(transformed_text)\n",
    "  transformed_text = remove_twitter_ig_formatting(transformed_text)\n",
    "  transformed_text = remove_kaskus_formatting(transformed_text)\n",
    "  transformed_text = translate_emoticon(transformed_text)\n",
    "  transformed_text = transformed_text.lower()\n",
    "  transformed_text = tokenize_text(transformed_text)\n",
    "  transformed_text = transform_slang_words(transformed_text)\n",
    "  transformed_text = remove_repeating_characters(transformed_text)\n",
    "  transformed_text = transform_slang_words(transformed_text)\n",
    "  transformed_text = remove_non_alphabet(transformed_text)\n",
    "  transformed_text = remove_excessive_whitespace(transformed_text)\n",
    "  transformed_text = transformed_text.lower().strip()\n",
    "  return transformed_text\n",
    "\n",
    "\n",
    "sample_text = '@fakhri17: halooooooo saya adalah mahasiswa di telkom university surabaya :)'\n",
    "print(f'Before : {sample_text}')\n",
    "print(f'After  : {preprocess_text(sample_text)}')"
   ]
  }
 ],
 "metadata": {
  "kernelspec": {
   "display_name": "cuda_env",
   "language": "python",
   "name": "python3"
  },
  "language_info": {
   "codemirror_mode": {
    "name": "ipython",
    "version": 3
   },
   "file_extension": ".py",
   "mimetype": "text/x-python",
   "name": "python",
   "nbconvert_exporter": "python",
   "pygments_lexer": "ipython3",
   "version": "3.11.11"
  }
 },
 "nbformat": 4,
 "nbformat_minor": 5
}
